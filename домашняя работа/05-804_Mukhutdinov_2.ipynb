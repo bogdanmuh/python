{
 "cells": [
  {
   "cell_type": "code",
   "execution_count": 5,
   "id": "b29f6d1f",
   "metadata": {},
   "outputs": [
    {
     "data": {
      "image/png": "[encoded data removed]",
      "text/plain": [
       "<Figure size 768x576 with 1 Axes>"
      ]
     },
     "metadata": {
      "needs_background": "light"
     },
     "output_type": "display_data"
    }
   ],
   "source": [
    "import pygame\n",
    "import numpy as np\n",
    "import matplotlib.pyplot as plt\n",
    "\n",
    "\n",
    "c_radius = 2\n",
    "c_color = (0,0,255)\n",
    "c_thickness = 0 \n",
    "\n",
    "bg_color = (255,255,255)\n",
    "(width,height) = (640,480)\n",
    "screen = pygame.display.set_mode((width,height))\n",
    "pygame.display.set_caption(\"#3\")\n",
    "\n",
    "running = True\n",
    "pushing = False\n",
    "points = np.random.rand(10,2)\n",
    "points[:,0]*=width\n",
    "points[:,1]*=height\n",
    "while running:\n",
    "    for event in pygame.event.get():\n",
    "        if event.type == pygame.QUIT:\n",
    "            running = False\n",
    "        elif event.type == pygame.MOUSEBUTTONDOWN:\n",
    "            pushing = True\n",
    "        elif event.type == pygame.MOUSEBUTTONUP:\n",
    "            pushing = False\n",
    "    screen.fill(bg_color)\n",
    "    for point in points:\n",
    "        pygame.draw.circle(screen,c_color,(int(point[0]),int(point[1])),c_radius,c_thickness)\n",
    "    pygame.display.flip()\n",
    "    \n",
    "pygame.quit()\n",
    "\n",
    "fig = plt.figure(figsize=(width/60,height/60))\n",
    "plt.scatter(points[:,0],height-points[:,1],c=\"blue\")\n",
    "plt.show()"
   ]
  },
  {
   "cell_type": "code",
   "execution_count": null,
   "id": "f91b2095",
   "metadata": {},
   "outputs": [],
   "source": []
  }
 ],
 "metadata": {
  "kernelspec": {
   "display_name": "Python 3 (ipykernel)",
   "language": "python",
   "name": "python3"
  },
  "language_info": {
   "codemirror_mode": {
    "name": "ipython",
    "version": 3
   },
   "file_extension": ".py",
   "mimetype": "text/x-python",
   "name": "python",
   "nbconvert_exporter": "python",
   "pygments_lexer": "ipython3",
   "version": "3.8.6"
  }
 },
 "nbformat": 4,
 "nbformat_minor": 5
}
