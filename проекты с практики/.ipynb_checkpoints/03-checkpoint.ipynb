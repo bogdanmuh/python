{
 "cells": [
  {
   "cell_type": "markdown",
   "id": "97057419",
   "metadata": {},
   "source": [
    "# C-means"
   ]
  },
  {
   "cell_type": "markdown",
   "id": "c0e3e9dc",
   "metadata": {},
   "source": [
    "### Алгоритм c-means состоит из следующих шагов:\n",
    "\n",
    "1. Инициализировать матрицу $u=[u_{ij}]$, $U^{(0)}$\n",
    "\n",
    "2. На k-шаге: вычислить центры векторов $C^{(k)} = [c_j]$ с помощью $U^{(k)}$\n",
    "\n",
    "$$ c_j = \\frac{\\sum\\limits_{i=1}^{N} u_{ij} x_i}{\\sum\\limits_{i=1}^{N} u_{ij}} $$\n",
    "\n",
    "3. Обновить $U^{(k)}$, $U^{(k+1)}$\n",
    "\n",
    "$$ u_{ij} = \\frac{1}{\\left(\\frac{|| x_i - c_j ||}{\\sum\\limits_{k=1}^{C}|| x_i - c_k ||}\\right)^m}$$\n",
    "\n",
    "4. Если $|| U^{(k+1)} - U^{(k)} || < \\epsilon$ тогда СТОП; в противном случае вернуться к шагу 2.\n",
    "\n",
    "https://matteucci.faculty.polimi.it/Clustering/tutorial_html/cmeans.html"
   ]
  },
  {
   "cell_type": "code",
   "execution_count": 1,
   "id": "a6330f10",
   "metadata": {},
   "outputs": [],
   "source": [
    "import numpy as np\n",
    "import matplotlib.pyplot as plt"
   ]
  },
  {
   "cell_type": "code",
   "execution_count": 2,
   "id": "4be78332",
   "metadata": {},
   "outputs": [
    {
     "name": "stdout",
     "output_type": "stream",
     "text": [
      "pygame 2.0.1 (SDL 2.0.14, Python 3.8.6)\n",
      "Hello from the pygame community. https://www.pygame.org/contribute.html\n"
     ]
    },
    {
     "data": {
      "image/png": "[encoded data removed]",
      "text/plain": [
       "<Figure size 768x576 with 1 Axes>"
      ]
     },
     "metadata": {
      "needs_background": "light"
     },
     "output_type": "display_data"
    }
   ],
   "source": [
    "import pygame\n",
    "\n",
    "points = np.empty((0,2), dtype='f')\n",
    "\n",
    "c_radius = 2\n",
    "c_color = (0,0,255)\n",
    "c_thickness = 0 \n",
    "\n",
    "bg_color = (255,255,255)\n",
    "(width,height) = (640,480)\n",
    "screen = pygame.display.set_mode((width,height))\n",
    "pygame.display.set_caption(\"#3\")\n",
    "\n",
    "running = True\n",
    "pushing = False\n",
    "while running:\n",
    "    for event in pygame.event.get():\n",
    "        if event.type == pygame.QUIT:\n",
    "            running = False\n",
    "        elif event.type == pygame.MOUSEBUTTONDOWN:\n",
    "            pushing = True\n",
    "        elif event.type == pygame.MOUSEBUTTONUP:\n",
    "            pushing = False\n",
    "            \n",
    "    if pushing:\n",
    "        (x, y) = pygame.mouse.get_pos()\n",
    "        r = np.random.uniform(0, 30)\n",
    "        t = np.random.uniform(0, 2*np.pi)\n",
    "        coord = [x+r*np.cos(t), y+r*np.sin(t)]\n",
    "        global points\n",
    "        points = np.append(points, [coord], axis=0)\n",
    "            \n",
    "    screen.fill(bg_color)\n",
    "    for point in points:\n",
    "        pygame.draw.circle(screen,c_color,(int(point[0]),int(point[1])),c_radius,c_thickness)\n",
    "    pygame.display.flip()\n",
    "    \n",
    "pygame.quit()\n",
    "\n",
    "fig = plt.figure(figsize=(width/60,height/60))\n",
    "plt.scatter(points[:,0],points[:,1],c=\"blue\")\n",
    "plt.show()"
   ]
  },
  {
   "cell_type": "code",
   "execution_count": 27,
   "id": "d0f6371c",
   "metadata": {},
   "outputs": [
    {
     "name": "stdout",
     "output_type": "stream",
     "text": [
      "[[517.79492597 376.0618744 ]\n",
      " [148.19897728  80.88079485]\n",
      " [505.02584316 341.59917489]]\n",
      "[[0.03194482 0.93234025 0.03571493]\n",
      " [0.02386227 0.94940599 0.02673173]\n",
      " [0.01467033 0.96881736 0.01651231]\n",
      " ...\n",
      " [0.26770385 0.01089674 0.72139941]\n",
      " [0.27850134 0.01638093 0.70511773]\n",
      " [0.27024772 0.01501692 0.71473536]]\n",
      "[307.77496516 547.51754687 431.70748796]\n"
     ]
    }
   ],
   "source": [
    "dataset = points\n",
    "\n",
    "n_clusters = 3\n",
    "fuzzy = 2\n",
    "\n",
    "centroids = dataset[np.random.choice(dataset.shape[0], size=n_clusters, replace=False)] + 1\n",
    "print(centroids)\n",
    "\n",
    "def get_dist(list1, list2):\n",
    "    return np.sqrt(sum((i-j)**2 for i,j in zip(list1,list2)))\n",
    "\n",
    "dist = np.array([[get_dist(center,data) for center in centroids] \\\n",
    "                 for data in dataset])\n",
    "#print(dist)\n",
    "\n",
    "U = (1/dist)**fuzzy\n",
    "#print(U)\n",
    "\n",
    "#print(U.sum(axis=1)[:,None])\n",
    "#print(np.array([U.sum(axis=1)]).T)\n",
    "\n",
    "print(U/np.array([U.sum(axis=1)]).T)\n",
    "\n",
    "print((U/np.array([U.sum(axis=1)]).T).sum(axis=0))"
   ]
  },
  {
   "cell_type": "code",
   "execution_count": null,
   "id": "bc6905b8",
   "metadata": {},
   "outputs": [],
   "source": [
    "## ДЗ\n",
    "\n",
    "class C_Means():\n",
    "    def __init__(self, dataset, n_clusters=3, fuzzy=2, cut=.9):\n",
    "        self.dataset = dataset\n",
    "        self.n_clusters = n_clusters\n",
    "        self.fuzzy = fuzzy\n",
    "        self.cut = cut\n",
    "        self.max_n_iter = 100\n",
    "        self.tolerance = 1e-2\n",
    "        self.fitted = False\n",
    "        self.labels = np.array([], dtype='i')\n",
    "        self.centroids = self.dataset[np.random.choice(self.dataset.shape[0], size=self.n_clusters, replace=False)] + 1\n",
    "        self.U = np.array([], dtype='f')\n",
    "        \n",
    "    def get_dist(self, list1, list2):\n",
    "        #\n",
    "        # Метод для измерения расстояния между двумя объектами\n",
    "        #\n",
    "    \n",
    "    def distribute_data(self):\n",
    "        #\n",
    "        # Метод пересчета матрицы принадлежности U\n",
    "        #\n",
    "        \n",
    "    def recalculate_centroids(self):\n",
    "        #\n",
    "        # Метод пересчета центров кластеров с помощью матрицы принадлежности\n",
    "        #\n",
    "        \n",
    "    def get_labels(self):\n",
    "        #\n",
    "        # Метод заполнения массива меток (labels) обучающей выборки\n",
    "        #    с использованием параметра отсечения (cut)\n",
    "        #\n",
    "            \n",
    "    def fit(self):\n",
    "        #\n",
    "        # Метод обучения модели\n",
    "        #\n",
    "        \n",
    "    def predict(self, list2d):\n",
    "        #\n",
    "        # Метод предсказания меток для массива новых объектов\n",
    "        #"
   ]
  }
 ],
 "metadata": {
  "kernelspec": {
   "display_name": "Python 3 (ipykernel)",
   "language": "python",
   "name": "python3"
  },
  "language_info": {
   "codemirror_mode": {
    "name": "ipython",
    "version": 3
   },
   "file_extension": ".py",
   "mimetype": "text/x-python",
   "name": "python",
   "nbconvert_exporter": "python",
   "pygments_lexer": "ipython3",
   "version": "3.8.6"
  }
 },
 "nbformat": 4,
 "nbformat_minor": 5
}
